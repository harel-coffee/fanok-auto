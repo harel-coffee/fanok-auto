{
 "cells": [
  {
   "cell_type": "markdown",
   "metadata": {},
   "source": [
    "# FANOK\n",
    "\n",
    "FANOK is a Python implementation of the fixed and Gaussian knockoffs framework developed by Barber-Candès.\n",
    "This notebook summarizes the most important features that the package provides.\n",
    "In the following,\n",
    "let $X \\in \\mathbb{R}^{n \\times p}$ be a design matrix of $n$ samples and $p$ features,\n",
    "and $y \\in \\mathbb{R}^n$ a target vector.\n",
    "\n"
   ]
  },
  {
   "cell_type": "code",
   "execution_count": null,
   "metadata": {},
   "outputs": [],
   "source": [
    "from fanok import (\n",
    "    FixedKnockoffs,\n",
    "    GaussianKnockoffs,\n",
    "    LowRankGaussianKnockoffs,\n",
    "    RandomizedLowRankFactorModel,\n",
    "    EstimatorStatistics,\n",
    "    KnockoffSelector,\n",
    ")\n",
    "\n",
    "import numpy as np\n",
    "from sklearn.datasets import make_regression  # Synthetic regression problem generation\n",
    "from sklearn.linear_model import LassoCV"
   ]
  },
  {
   "cell_type": "markdown",
   "metadata": {},
   "source": [
    "## Fixed knockoffs\n",
    "\n",
    "Fixed knockoffs work only in the low dimension regime,\n",
    "and more precisely when $n \\geq 2p$."
   ]
  },
  {
   "cell_type": "code",
   "execution_count": null,
   "metadata": {},
   "outputs": [],
   "source": [
    "X, y, coef = make_regression(n_samples=100, n_features=50, n_informative=20, coef=True)"
   ]
  },
  {
   "cell_type": "markdown",
   "metadata": {},
   "source": [
    "### Generation"
   ]
  },
  {
   "cell_type": "markdown",
   "metadata": {},
   "source": [
    "Fixed knockoffs can be created with a `FixedKnockoffs` object\n",
    "that must be fitted on the samples.\n",
    "It follows Scikit-Learn's `fit` and `transform` scheme.\n",
    "The parameter `sdp_mode` may be either 'sdp' (more power but slower) or 'equi' (faster).\n",
    "By default the SDP is solved with a fast coordinate ascent algorithm."
   ]
  },
  {
   "cell_type": "code",
   "execution_count": null,
   "metadata": {},
   "outputs": [],
   "source": [
    "fixed_knockoffs = FixedKnockoffs(sdp_mode='sdp')\n",
    "fixed_knockoffs.fit(X)\n",
    "X_tilde = fixed_knockoffs.transform(X)"
   ]
  },
  {
   "cell_type": "markdown",
   "metadata": {},
   "source": [
    "### Selection\n",
    "\n",
    "In order to perform the selection,\n",
    "statistics must be computed on the concatenated matrix $[X, \\tilde{X}]$.\n",
    "They can be evaluated in many different ways;\n",
    "a regressor is typically trained against $[X, \\tilde{X}]$ and $y$,\n",
    "and its coefficients are kept in abolute value.\n",
    "The Lasso often leads to a high statistical power.\n",
    "To do so, we feed a `LassoCV` estimator to a `EstimatorStatistics` object."
   ]
  },
  {
   "cell_type": "code",
   "execution_count": null,
   "metadata": {},
   "outputs": [],
   "source": [
    "lasso = LassoCV(cv=3, max_iter=3000)\n",
    "statistics = EstimatorStatistics(lasso)\n",
    "selector = KnockoffSelector(fixed_knockoffs, statistics, alpha=0.2, offset=1)\n",
    "selector.fit(X, y)\n",
    "\n",
    "fdr, power = selector.score(X, y, coef)\n",
    "print(f\"FDR: {fdr}, Power: {power}\")"
   ]
  },
  {
   "cell_type": "markdown",
   "metadata": {},
   "source": [
    "After the selector is fitted,\n",
    "the attribute `selector.mask_` describes which features were selector."
   ]
  },
  {
   "cell_type": "markdown",
   "metadata": {},
   "source": [
    "## Gaussian knockoffs\n",
    "\n",
    "In high dimension,\n",
    "fixed knockoffs are not working anymore and Gaussian knockoffs must be employed.\n",
    "The selection procedure follows the same pattern as above.\n",
    "The parameter `covariance_mode` may be either 'empirical' or 'wolf' (recommended)."
   ]
  },
  {
   "cell_type": "code",
   "execution_count": null,
   "metadata": {},
   "outputs": [],
   "source": [
    "X, y, coef = make_regression(n_samples=100, n_features=200, n_informative=20, coef=True)\n",
    "statistics = EstimatorStatistics(LassoCV(cv=3, max_iter=3000))\n",
    "gaussian_knockoffs = GaussianKnockoffs(sdp_mode='sdp', covariance_mode='wolf')\n",
    "selector = KnockoffSelector(gaussian_knockoffs, statistics, alpha=0.05, offset=1)\n",
    "\n",
    "selector.fit(X, y)\n",
    "\n",
    "fdp, power = selector.score(X, y, coef)\n",
    "print(f\"FDP: {fdp}, Power: {power}\")"
   ]
  },
  {
   "cell_type": "markdown",
   "metadata": {},
   "source": [
    "### Low-rank factor model\n",
    "\n",
    "In very high dimension,\n",
    "solving the SDP is not possible anymore.\n",
    "Instead, the covariance matrix can be approximated in the following way:\n",
    "$$\\Sigma = D + U U^\\top$$\n",
    "where $D \\in \\mathbb{R}^{p \\times p}$ is a diagonal and psd matrix,\n",
    "and $U \\in \\mathbb{R}^{p \\times k}$ is composed of $k$ orthogonal columns.\n",
    "When $k \\ll p$, this special structure allows to solve the SDP\n",
    "efficiently, in $\\mathcal{O}(pk^2)$ steps only.\n",
    "\n",
    "There are multiple ways to compute this factor model,\n",
    "but when the dimension is high randomized algorithms are better suited."
   ]
  },
  {
   "cell_type": "code",
   "execution_count": null,
   "metadata": {},
   "outputs": [],
   "source": [
    "factor_model = RandomizedLowRankFactorModel(rank=20)\n",
    "knockoffs = LowRankGaussianKnockoffs(factor_model)\n",
    "statistics = EstimatorStatistics(LassoCV(cv=3, max_iter=3000))\n",
    "selector = KnockoffSelector(knockoffs, statistics, alpha=0.2, offset=1)\n",
    "selector.fit(X, y)\n",
    "\n",
    "fdr, power = selector.score(X, y, coef)\n",
    "print(f\"FDR: {fdr}, Power: {power}\")"
   ]
  },
  {
   "cell_type": "markdown",
   "metadata": {},
   "source": [
    "## Application\n",
    "\n",
    "We show here an application example with text data.\n",
    "We extract 2 categories from the 20 news groups dataset, namely the medical and the space related news.\n",
    "As the number of features is pretty high, we make use of the low-rank factor model.\n",
    "Training a Lasso is costly here; you may try the fast implementation of the package \"celer\"\n",
    "which outperforms the one of Scikit-Learn on many datasets.\n",
    "Instead, we use a centroids estimator in this example."
   ]
  },
  {
   "cell_type": "code",
   "execution_count": null,
   "metadata": {},
   "outputs": [],
   "source": [
    "from sklearn.datasets import fetch_20newsgroups\n",
    "from sklearn.feature_extraction.text import TfidfVectorizer\n",
    "from sklearn.preprocessing import scale\n",
    "from fanok.statistics.centroids import CentroidsEstimator\n",
    "\n",
    "# Basic preprocessing steps\n",
    "categories = ['sci.med', 'sci.space']\n",
    "remove = ('headers', 'footers', 'quotes')\n",
    "data_train = fetch_20newsgroups(subset='train', categories=categories, shuffle=True, remove=remove)\n",
    "vectorizer = TfidfVectorizer(sublinear_tf=True, max_df=0.5, stop_words='english')\n",
    "X = vectorizer.fit_transform(data_train.data).toarray()\n",
    "X = scale(X)\n",
    "y = data_train.target\n",
    "names = np.array(vectorizer.get_feature_names())\n",
    "\n",
    "print(f\"The data contains {X.shape[0]} samples and {X.shape[1]} features.\")"
   ]
  },
  {
   "cell_type": "code",
   "execution_count": null,
   "metadata": {},
   "outputs": [],
   "source": [
    "factor_model = RandomizedLowRankFactorModel(rank=100)\n",
    "knockoffs = LowRankGaussianKnockoffs(factor_model)\n",
    "statistics = EstimatorStatistics(CentroidsEstimator())\n",
    "selector = KnockoffSelector(knockoffs, statistics, alpha=0.1, offset=1)\n",
    "selector.fit(X, y)\n",
    "\n",
    "print(f\"Found {selector.mask_.sum()} features\")\n",
    "print(\"Selected features list:\")\n",
    "print(names[selector.mask_])"
   ]
  }
 ],
 "metadata": {
  "kernelspec": {
   "display_name": "Python 3",
   "language": "python",
   "name": "python3"
  },
  "language_info": {
   "codemirror_mode": {
    "name": "ipython",
    "version": 3
   },
   "file_extension": ".py",
   "mimetype": "text/x-python",
   "name": "python",
   "nbconvert_exporter": "python",
   "pygments_lexer": "ipython3",
   "version": "3.7.6"
  },
  "name": "tutorial.ipynb"
 },
 "nbformat": 4,
 "nbformat_minor": 4
}
